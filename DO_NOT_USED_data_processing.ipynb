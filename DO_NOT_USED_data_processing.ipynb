{
 "cells": [
  {
   "cell_type": "code",
   "execution_count": 2,
   "metadata": {},
   "outputs": [],
   "source": [
    "#%%\n",
    "import os\n",
    "import pandas as pd\n",
    "import numpy as np\n",
    "import matplotlib.pyplot as plt\n",
    "import seaborn as sns\n",
    "\n",
    "\n"
   ]
  },
  {
   "cell_type": "code",
   "execution_count": null,
   "metadata": {},
   "outputs": [],
   "source": [
    "#%%\n",
    "# PREPROCESSING\n",
    "data = pd.read_parquet( os.getcwd() + f'\\\\data\\\\yellow_tripdata_2024-05.parquet')\n",
    "data = data.query('PULocationID == 239')\n",
    "data = data.sample(50000)\n",
    "data.head()\n",
    "data.to_csv('data.csv', index=False) \n"
   ]
  },
  {
   "cell_type": "code",
   "execution_count": 3,
   "metadata": {},
   "outputs": [
    {
     "data": {
      "text/html": [
       "<div>\n",
       "<style scoped>\n",
       "    .dataframe tbody tr th:only-of-type {\n",
       "        vertical-align: middle;\n",
       "    }\n",
       "\n",
       "    .dataframe tbody tr th {\n",
       "        vertical-align: top;\n",
       "    }\n",
       "\n",
       "    .dataframe thead th {\n",
       "        text-align: right;\n",
       "    }\n",
       "</style>\n",
       "<table border=\"1\" class=\"dataframe\">\n",
       "  <thead>\n",
       "    <tr style=\"text-align: right;\">\n",
       "      <th></th>\n",
       "      <th>VendorID</th>\n",
       "      <th>tpep_pickup_datetime</th>\n",
       "      <th>tpep_dropoff_datetime</th>\n",
       "      <th>passenger_count</th>\n",
       "      <th>trip_distance</th>\n",
       "      <th>RatecodeID</th>\n",
       "      <th>store_and_fwd_flag</th>\n",
       "      <th>PULocationID</th>\n",
       "      <th>DOLocationID</th>\n",
       "      <th>payment_type</th>\n",
       "      <th>fare_amount</th>\n",
       "      <th>extra</th>\n",
       "      <th>mta_tax</th>\n",
       "      <th>tip_amount</th>\n",
       "      <th>tolls_amount</th>\n",
       "      <th>improvement_surcharge</th>\n",
       "      <th>total_amount</th>\n",
       "      <th>congestion_surcharge</th>\n",
       "      <th>Airport_fee</th>\n",
       "    </tr>\n",
       "  </thead>\n",
       "  <tbody>\n",
       "    <tr>\n",
       "      <th>0</th>\n",
       "      <td>2</td>\n",
       "      <td>2024-05-10 12:48:26</td>\n",
       "      <td>2024-05-10 12:59:00</td>\n",
       "      <td>1.0</td>\n",
       "      <td>1.56</td>\n",
       "      <td>1.0</td>\n",
       "      <td>N</td>\n",
       "      <td>239</td>\n",
       "      <td>43</td>\n",
       "      <td>1</td>\n",
       "      <td>11.40</td>\n",
       "      <td>0.0</td>\n",
       "      <td>0.5</td>\n",
       "      <td>3.08</td>\n",
       "      <td>0.0</td>\n",
       "      <td>1.0</td>\n",
       "      <td>18.48</td>\n",
       "      <td>2.5</td>\n",
       "      <td>0.0</td>\n",
       "    </tr>\n",
       "    <tr>\n",
       "      <th>1</th>\n",
       "      <td>1</td>\n",
       "      <td>2024-05-16 18:34:45</td>\n",
       "      <td>2024-05-16 18:50:53</td>\n",
       "      <td>1.0</td>\n",
       "      <td>2.20</td>\n",
       "      <td>1.0</td>\n",
       "      <td>N</td>\n",
       "      <td>239</td>\n",
       "      <td>162</td>\n",
       "      <td>1</td>\n",
       "      <td>16.30</td>\n",
       "      <td>5.0</td>\n",
       "      <td>0.5</td>\n",
       "      <td>4.55</td>\n",
       "      <td>0.0</td>\n",
       "      <td>1.0</td>\n",
       "      <td>27.35</td>\n",
       "      <td>2.5</td>\n",
       "      <td>0.0</td>\n",
       "    </tr>\n",
       "    <tr>\n",
       "      <th>2</th>\n",
       "      <td>2</td>\n",
       "      <td>2024-05-23 10:24:32</td>\n",
       "      <td>2024-05-23 10:32:43</td>\n",
       "      <td>NaN</td>\n",
       "      <td>1.59</td>\n",
       "      <td>NaN</td>\n",
       "      <td>NaN</td>\n",
       "      <td>239</td>\n",
       "      <td>24</td>\n",
       "      <td>0</td>\n",
       "      <td>14.13</td>\n",
       "      <td>0.0</td>\n",
       "      <td>0.5</td>\n",
       "      <td>0.00</td>\n",
       "      <td>0.0</td>\n",
       "      <td>1.0</td>\n",
       "      <td>18.13</td>\n",
       "      <td>NaN</td>\n",
       "      <td>NaN</td>\n",
       "    </tr>\n",
       "    <tr>\n",
       "      <th>3</th>\n",
       "      <td>2</td>\n",
       "      <td>2024-05-10 14:31:00</td>\n",
       "      <td>2024-05-10 14:45:08</td>\n",
       "      <td>1.0</td>\n",
       "      <td>2.49</td>\n",
       "      <td>1.0</td>\n",
       "      <td>N</td>\n",
       "      <td>239</td>\n",
       "      <td>41</td>\n",
       "      <td>1</td>\n",
       "      <td>16.30</td>\n",
       "      <td>0.0</td>\n",
       "      <td>0.5</td>\n",
       "      <td>4.06</td>\n",
       "      <td>0.0</td>\n",
       "      <td>1.0</td>\n",
       "      <td>24.36</td>\n",
       "      <td>2.5</td>\n",
       "      <td>0.0</td>\n",
       "    </tr>\n",
       "    <tr>\n",
       "      <th>4</th>\n",
       "      <td>2</td>\n",
       "      <td>2024-05-02 18:01:40</td>\n",
       "      <td>2024-05-02 18:20:13</td>\n",
       "      <td>NaN</td>\n",
       "      <td>2.25</td>\n",
       "      <td>NaN</td>\n",
       "      <td>NaN</td>\n",
       "      <td>239</td>\n",
       "      <td>140</td>\n",
       "      <td>0</td>\n",
       "      <td>-1.31</td>\n",
       "      <td>0.0</td>\n",
       "      <td>0.5</td>\n",
       "      <td>0.00</td>\n",
       "      <td>0.0</td>\n",
       "      <td>1.0</td>\n",
       "      <td>2.69</td>\n",
       "      <td>NaN</td>\n",
       "      <td>NaN</td>\n",
       "    </tr>\n",
       "  </tbody>\n",
       "</table>\n",
       "</div>"
      ],
      "text/plain": [
       "   VendorID tpep_pickup_datetime tpep_dropoff_datetime  passenger_count  \\\n",
       "0         2  2024-05-10 12:48:26   2024-05-10 12:59:00              1.0   \n",
       "1         1  2024-05-16 18:34:45   2024-05-16 18:50:53              1.0   \n",
       "2         2  2024-05-23 10:24:32   2024-05-23 10:32:43              NaN   \n",
       "3         2  2024-05-10 14:31:00   2024-05-10 14:45:08              1.0   \n",
       "4         2  2024-05-02 18:01:40   2024-05-02 18:20:13              NaN   \n",
       "\n",
       "   trip_distance  RatecodeID store_and_fwd_flag  PULocationID  DOLocationID  \\\n",
       "0           1.56         1.0                  N           239            43   \n",
       "1           2.20         1.0                  N           239           162   \n",
       "2           1.59         NaN                NaN           239            24   \n",
       "3           2.49         1.0                  N           239            41   \n",
       "4           2.25         NaN                NaN           239           140   \n",
       "\n",
       "   payment_type  fare_amount  extra  mta_tax  tip_amount  tolls_amount  \\\n",
       "0             1        11.40    0.0      0.5        3.08           0.0   \n",
       "1             1        16.30    5.0      0.5        4.55           0.0   \n",
       "2             0        14.13    0.0      0.5        0.00           0.0   \n",
       "3             1        16.30    0.0      0.5        4.06           0.0   \n",
       "4             0        -1.31    0.0      0.5        0.00           0.0   \n",
       "\n",
       "   improvement_surcharge  total_amount  congestion_surcharge  Airport_fee  \n",
       "0                    1.0         18.48                   2.5          0.0  \n",
       "1                    1.0         27.35                   2.5          0.0  \n",
       "2                    1.0         18.13                   NaN          NaN  \n",
       "3                    1.0         24.36                   2.5          0.0  \n",
       "4                    1.0          2.69                   NaN          NaN  "
      ]
     },
     "execution_count": 3,
     "metadata": {},
     "output_type": "execute_result"
    }
   ],
   "source": [
    "#%%\n",
    "data = pd.read_csv('data/data.csv')\n",
    "data.head()\n"
   ]
  },
  {
   "cell_type": "code",
   "execution_count": 4,
   "metadata": {},
   "outputs": [
    {
     "name": "stdout",
     "output_type": "stream",
     "text": [
      "<class 'pandas.core.frame.DataFrame'>\n",
      "RangeIndex: 50000 entries, 0 to 49999\n",
      "Data columns (total 19 columns):\n",
      " #   Column                 Non-Null Count  Dtype  \n",
      "---  ------                 --------------  -----  \n",
      " 0   VendorID               50000 non-null  int64  \n",
      " 1   tpep_pickup_datetime   50000 non-null  object \n",
      " 2   tpep_dropoff_datetime  50000 non-null  object \n",
      " 3   passenger_count        43613 non-null  float64\n",
      " 4   trip_distance          50000 non-null  float64\n",
      " 5   RatecodeID             43613 non-null  float64\n",
      " 6   store_and_fwd_flag     43613 non-null  object \n",
      " 7   PULocationID           50000 non-null  int64  \n",
      " 8   DOLocationID           50000 non-null  int64  \n",
      " 9   payment_type           50000 non-null  int64  \n",
      " 10  fare_amount            50000 non-null  float64\n",
      " 11  extra                  50000 non-null  float64\n",
      " 12  mta_tax                50000 non-null  float64\n",
      " 13  tip_amount             50000 non-null  float64\n",
      " 14  tolls_amount           50000 non-null  float64\n",
      " 15  improvement_surcharge  50000 non-null  float64\n",
      " 16  total_amount           50000 non-null  float64\n",
      " 17  congestion_surcharge   43613 non-null  float64\n",
      " 18  Airport_fee            43613 non-null  float64\n",
      "dtypes: float64(12), int64(4), object(3)\n",
      "memory usage: 7.2+ MB\n"
     ]
    }
   ],
   "source": [
    "# %%\n",
    "data.info()\n",
    "\n"
   ]
  },
  {
   "cell_type": "code",
   "execution_count": 5,
   "metadata": {},
   "outputs": [
    {
     "data": {
      "text/html": [
       "<div>\n",
       "<style scoped>\n",
       "    .dataframe tbody tr th:only-of-type {\n",
       "        vertical-align: middle;\n",
       "    }\n",
       "\n",
       "    .dataframe tbody tr th {\n",
       "        vertical-align: top;\n",
       "    }\n",
       "\n",
       "    .dataframe thead th {\n",
       "        text-align: right;\n",
       "    }\n",
       "</style>\n",
       "<table border=\"1\" class=\"dataframe\">\n",
       "  <thead>\n",
       "    <tr style=\"text-align: right;\">\n",
       "      <th></th>\n",
       "      <th>tpep_pickup_datetime</th>\n",
       "      <th>total_amount</th>\n",
       "      <th>DOLocationID</th>\n",
       "      <th>trip_distance</th>\n",
       "    </tr>\n",
       "  </thead>\n",
       "  <tbody>\n",
       "    <tr>\n",
       "      <th>0</th>\n",
       "      <td>2024-05-10 12:48:26</td>\n",
       "      <td>18.48</td>\n",
       "      <td>43</td>\n",
       "      <td>1.56</td>\n",
       "    </tr>\n",
       "    <tr>\n",
       "      <th>1</th>\n",
       "      <td>2024-05-16 18:34:45</td>\n",
       "      <td>27.35</td>\n",
       "      <td>162</td>\n",
       "      <td>2.20</td>\n",
       "    </tr>\n",
       "    <tr>\n",
       "      <th>2</th>\n",
       "      <td>2024-05-23 10:24:32</td>\n",
       "      <td>18.13</td>\n",
       "      <td>24</td>\n",
       "      <td>1.59</td>\n",
       "    </tr>\n",
       "    <tr>\n",
       "      <th>3</th>\n",
       "      <td>2024-05-10 14:31:00</td>\n",
       "      <td>24.36</td>\n",
       "      <td>41</td>\n",
       "      <td>2.49</td>\n",
       "    </tr>\n",
       "    <tr>\n",
       "      <th>4</th>\n",
       "      <td>2024-05-02 18:01:40</td>\n",
       "      <td>2.69</td>\n",
       "      <td>140</td>\n",
       "      <td>2.25</td>\n",
       "    </tr>\n",
       "  </tbody>\n",
       "</table>\n",
       "</div>"
      ],
      "text/plain": [
       "  tpep_pickup_datetime  total_amount  DOLocationID  trip_distance\n",
       "0  2024-05-10 12:48:26         18.48            43           1.56\n",
       "1  2024-05-16 18:34:45         27.35           162           2.20\n",
       "2  2024-05-23 10:24:32         18.13            24           1.59\n",
       "3  2024-05-10 14:31:00         24.36            41           2.49\n",
       "4  2024-05-02 18:01:40          2.69           140           2.25"
      ]
     },
     "execution_count": 5,
     "metadata": {},
     "output_type": "execute_result"
    }
   ],
   "source": [
    "#%%\n",
    "# Drop coloumns \n",
    "columns = ['tpep_pickup_datetime', 'total_amount', 'DOLocationID', 'trip_distance']\n",
    "data = pd.DataFrame(data, columns=columns)\n",
    "data.head()\n",
    "\n",
    "\n"
   ]
  },
  {
   "cell_type": "code",
   "execution_count": 6,
   "metadata": {},
   "outputs": [
    {
     "data": {
      "text/plain": [
       "tpep_pickup_datetime    0.0\n",
       "total_amount            0.0\n",
       "DOLocationID            0.0\n",
       "trip_distance           0.0\n",
       "dtype: float64"
      ]
     },
     "execution_count": 6,
     "metadata": {},
     "output_type": "execute_result"
    }
   ],
   "source": [
    "# %%\n",
    "# Check for Missing Value\n",
    "\n",
    "(data.isna().mean()*100).sort_values(ascending=False).head(25)\n"
   ]
  },
  {
   "cell_type": "code",
   "execution_count": 7,
   "metadata": {},
   "outputs": [
    {
     "data": {
      "text/html": [
       "<div>\n",
       "<style scoped>\n",
       "    .dataframe tbody tr th:only-of-type {\n",
       "        vertical-align: middle;\n",
       "    }\n",
       "\n",
       "    .dataframe tbody tr th {\n",
       "        vertical-align: top;\n",
       "    }\n",
       "\n",
       "    .dataframe thead th {\n",
       "        text-align: right;\n",
       "    }\n",
       "</style>\n",
       "<table border=\"1\" class=\"dataframe\">\n",
       "  <thead>\n",
       "    <tr style=\"text-align: right;\">\n",
       "      <th></th>\n",
       "      <th>count</th>\n",
       "      <th>unique</th>\n",
       "      <th>top</th>\n",
       "      <th>freq</th>\n",
       "    </tr>\n",
       "  </thead>\n",
       "  <tbody>\n",
       "    <tr>\n",
       "      <th>tpep_pickup_datetime</th>\n",
       "      <td>50000</td>\n",
       "      <td>49077</td>\n",
       "      <td>2024-05-06 08:02:25</td>\n",
       "      <td>3</td>\n",
       "    </tr>\n",
       "  </tbody>\n",
       "</table>\n",
       "</div>"
      ],
      "text/plain": [
       "                      count unique                  top freq\n",
       "tpep_pickup_datetime  50000  49077  2024-05-06 08:02:25    3"
      ]
     },
     "execution_count": 7,
     "metadata": {},
     "output_type": "execute_result"
    }
   ],
   "source": [
    "#%%\n",
    "# Check for non numeric values\n",
    "data.describe(exclude=np.number).T\n"
   ]
  },
  {
   "cell_type": "code",
   "execution_count": null,
   "metadata": {},
   "outputs": [],
   "source": [
    "#%%\n",
    "#Check for negative values\n",
    "\n",
    "print('total_amount ', len(data[data.total_amount <=0]))\n",
    "print('DOLocationID ', len(data[data.DOLocationID <= 0]))\n",
    "\n"
   ]
  },
  {
   "cell_type": "code",
   "execution_count": 8,
   "metadata": {},
   "outputs": [
    {
     "data": {
      "text/plain": [
       "<bound method DataFrame.info of       tpep_pickup_datetime  total_amount  DOLocationID  trip_distance\n",
       "0      2024-05-10 12:48:26         18.48            43           1.56\n",
       "1      2024-05-16 18:34:45         27.35           162           2.20\n",
       "2      2024-05-23 10:24:32         18.13            24           1.59\n",
       "3      2024-05-10 14:31:00         24.36            41           2.49\n",
       "4      2024-05-02 18:01:40          2.69           140           2.25\n",
       "...                    ...           ...           ...            ...\n",
       "49995  2024-05-20 16:13:39         27.36           230           2.07\n",
       "49996  2024-05-28 17:34:26         17.30           236           1.20\n",
       "49997  2024-05-08 14:36:48         16.80            48           1.50\n",
       "49998  2024-05-08 07:03:31         29.46           234           3.41\n",
       "49999  2024-05-05 18:32:28         16.10           161           1.50\n",
       "\n",
       "[49542 rows x 4 columns]>"
      ]
     },
     "execution_count": 8,
     "metadata": {},
     "output_type": "execute_result"
    }
   ],
   "source": [
    "#%%\n",
    "#Get rows with total_amount>0\n",
    "data = data[data['total_amount'] > 0]\n",
    "\n",
    "data.info\n",
    "\n"
   ]
  },
  {
   "cell_type": "code",
   "execution_count": 9,
   "metadata": {},
   "outputs": [
    {
     "name": "stderr",
     "output_type": "stream",
     "text": [
      "c:\\Users\\Administrator\\anaconda3\\Lib\\site-packages\\seaborn\\_oldcore.py:1119: FutureWarning: use_inf_as_na option is deprecated and will be removed in a future version. Convert inf values to NaN before operating instead.\n",
      "  with pd.option_context('mode.use_inf_as_na', True):\n",
      "c:\\Users\\Administrator\\anaconda3\\Lib\\site-packages\\seaborn\\_oldcore.py:1119: FutureWarning: use_inf_as_na option is deprecated and will be removed in a future version. Convert inf values to NaN before operating instead.\n",
      "  with pd.option_context('mode.use_inf_as_na', True):\n"
     ]
    },
    {
     "data": {
      "image/png": "[encoded data removed]",
      "text/plain": [
       "<Figure size 2000x400 with 2 Axes>"
      ]
     },
     "metadata": {},
     "output_type": "display_data"
    }
   ],
   "source": [
    "#%%\n",
    "#Let's see some destiny\n",
    "cols = ['DOLocationID', 'total_amount']\n",
    "\n",
    "# create the figure and axes\n",
    "fig, axes = plt.subplots(1, 2, figsize=(20,4))\n",
    "axes = axes.ravel()  # flattening the array makes indexing easier\n",
    "\n",
    "for col, ax in zip(cols, axes):\n",
    "    sns.histplot(data[col], kde=True, stat='density', ax=ax)\n",
    "\n",
    "fig.tight_layout()\n",
    "plt.show()\n"
   ]
  },
  {
   "cell_type": "code",
   "execution_count": null,
   "metadata": {},
   "outputs": [],
   "source": [
    "#%%\n",
    "#Add week dates \n",
    "\n",
    "data[\"weekDate\"] = pd.to_datetime(data['tpep_pickup_datetime']).dt.dayofweek\n",
    "\n"
   ]
  },
  {
   "cell_type": "code",
   "execution_count": null,
   "metadata": {},
   "outputs": [],
   "source": [
    "#%%\n",
    "# Process data for next Fourier\n",
    "#data['timestamp'] = pd.to_datetime(data['tpep_pickup_datetime'])\n",
    "\n",
    "#data['N'] = 1\n",
    "#data.drop(['tpep_pickup_datetime'], axis=1, inplace=True)\n",
    "\n",
    "#data.head()\n",
    "\n"
   ]
  },
  {
   "cell_type": "code",
   "execution_count": null,
   "metadata": {},
   "outputs": [],
   "source": [
    "# %%\n",
    "# Save clean data\n",
    "\n",
    "data.to_csv('data/clean_data.csv', index=False) \n"
   ]
  },
  {
   "cell_type": "code",
   "execution_count": null,
   "metadata": {},
   "outputs": [],
   "source": [
    "# %%\n"
   ]
  }
 ],
 "metadata": {
  "kernelspec": {
   "display_name": "base",
   "language": "python",
   "name": "python3"
  },
  "language_info": {
   "codemirror_mode": {
    "name": "ipython",
    "version": 3
   },
   "file_extension": ".py",
   "mimetype": "text/x-python",
   "name": "python",
   "nbconvert_exporter": "python",
   "pygments_lexer": "ipython3",
   "version": "3.11.9"
  }
 },
 "nbformat": 4,
 "nbformat_minor": 2
}
